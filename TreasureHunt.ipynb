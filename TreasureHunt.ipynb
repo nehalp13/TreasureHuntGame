{
 "cells": [
  {
   "cell_type": "markdown",
   "metadata": {},
   "source": [
    "Below are some preset values for the characters."
   ]
  },
  {
   "cell_type": "code",
   "execution_count": 1,
   "metadata": {},
   "outputs": [],
   "source": [
    "player_health = 100\n",
    "player_score = 0\n",
    "steps = 0"
   ]
  },
  {
   "cell_type": "markdown",
   "metadata": {},
   "source": [
    "Below is the code cell that controls the effects after a player chooses to go right.\n",
    "\n",
    "When the player chooses to go **right**:\n",
    "\n",
    "- **If the player is on an odd step**: print \"_Discover hidden treasure!_\": Increase the player's score by 50.\n",
    "      \n",
    "- **If the player is on an even step**: print \"_Encounter a wild creature!_\": Decrease the player's health by 30.\n"
   ]
  },
  {
   "cell_type": "code",
   "execution_count": null,
   "metadata": {},
   "outputs": [],
   "source": [
    "def choose_right():\n",
    "    global player_score\n",
    "    global player_health\n",
    "    global steps\n",
    "    print(\"You chose the right path!\")\n",
    "\n",
    "    if steps % 2 == 0:\n",
    "        print(\"Encounter a wild creature!\")\n",
    "        player_health -= 30\n",
    "    else:\n",
    "        print(\"Discover hidden treasure!\")\n",
    "        player_score += 50\n",
    "\n",
    "    steps+=1\n",
    "   "
   ]
  },
  {
   "cell_type": "markdown",
   "metadata": {},
   "source": [
    "Below is the next code cell that controls the effects after a player chooses to go left.\n",
    "\n",
    "When the player chooses to go **left**:\n",
    "       \n",
    "* **If the player is on an odd step**: print \"_Encounter a hidden trap!_\" and decrease the player's health by 20.\n",
    "      \n",
    "* **If the player is on an even step**: print \"_Found a secret shortcut!_\": Increase the player's score by 20."
   ]
  },
  {
   "cell_type": "code",
   "execution_count": null,
   "metadata": {},
   "outputs": [],
   "source": [
    "def choose_left():\n",
    "    global player_score\n",
    "    global player_health\n",
    "    global steps\n",
    "    print(\"You chose the left path!\")\n",
    "\n",
    "    if steps % 2 == 0:\n",
    "        print(\"Found a secret shortcut!\")\n",
    "        player_score += 20\n",
    "    else:\n",
    "        print(f\"Encounter a hidden trap!\")\n",
    "        player_health -= 20\n",
    "\n",
    "    ### END SOLUTION\n",
    "    steps+=1\n"
   ]
  },
  {
   "cell_type": "markdown",
   "metadata": {},
   "source": [
    "This is a helper function to direct the code's logic between left and right actions based on user input. "
   ]
  },
  {
   "cell_type": "code",
   "execution_count": 4,
   "metadata": {},
   "outputs": [],
   "source": [
    "def make_choice(direction):\n",
    "    \"\"\"\n",
    "    Simulate the player making a choice in the game.\n",
    "\n",
    "    Parameters:\n",
    "    - direction (str): The direction chosen by the player (e.g., \"left\", \"right\").\n",
    "\n",
    "    Returns:\n",
    "    - Tuple with updated player_health and player_score.\n",
    "    \"\"\"\n",
    "    global player_health, player_score\n",
    "\n",
    "    if direction == \"right\":\n",
    "        choose_right()\n",
    "    elif direction == \"left\":\n",
    "        choose_left()\n",
    "    else:\n",
    "        print(\"Invalid choice. Try again.\")\n",
    "\n",
    "    return player_health, player_score"
   ]
  },
  {
   "cell_type": "markdown",
   "metadata": {},
   "source": [
    "This final cell is initiating the game loop. Run this cell to test code after completing and running all previous cells.\n",
    "\n",
    "When the player reaches 150 total points, then they've found the treasure. \n",
    "  \n",
    "- print \"_Congratulations, treasure found!_\"\n",
    "  \n",
    "- Adjust the while loop to exit the game once a player has won."
   ]
  },
  {
   "cell_type": "code",
   "execution_count": null,
   "metadata": {},
   "outputs": [
    {
     "name": "stdout",
     "output_type": "stream",
     "text": [
      "Welcome to the Treasure Hunt Game!\n",
      "\n",
      "Current Step: 0\n",
      "Current Health: 100\n",
      "Current Score: 0\n",
      "You chose the right path!\n",
      "Encounter a wild creature!\n",
      "Steps: 0, Player Score: 0, Player Health: 70\n",
      "\n",
      "Game Over! Thanks for playing.\n",
      "\n",
      "Current Step: 1\n",
      "Current Health: 70\n",
      "Current Score: 0\n",
      "You chose the right path!\n",
      "Discover hidden treasure!\n",
      "Steps: 1, Player Score: 50, Player Health: 70\n",
      "\n",
      "Game Over! Thanks for playing.\n",
      "\n",
      "Current Step: 2\n",
      "Current Health: 70\n",
      "Current Score: 50\n",
      "You chose the right path!\n",
      "Encounter a wild creature!\n",
      "Steps: 2, Player Score: 50, Player Health: 40\n",
      "\n",
      "Game Over! Thanks for playing.\n",
      "\n",
      "Current Step: 3\n",
      "Current Health: 40\n",
      "Current Score: 50\n",
      "You chose the right path!\n",
      "Discover hidden treasure!\n",
      "Steps: 3, Player Score: 100, Player Health: 40\n",
      "\n",
      "Game Over! Thanks for playing.\n",
      "\n",
      "Current Step: 4\n",
      "Current Health: 40\n",
      "Current Score: 100\n",
      "You chose the right path!\n",
      "Encounter a wild creature!\n",
      "Steps: 4, Player Score: 100, Player Health: 10\n",
      "\n",
      "Game Over! Thanks for playing.\n",
      "\n",
      "Current Step: 5\n",
      "Current Health: 10\n",
      "Current Score: 100\n",
      "You chose the right path!\n",
      "Discover hidden treasure!\n",
      "Steps: 5, Player Score: 150, Player Health: 10\n",
      "Congratulations, treasure found!\n"
     ]
    }
   ],
   "source": [
    "def play():\n",
    "    global player_health, player_score, steps\n",
    "    player_health = 100\n",
    "    player_score = 0\n",
    "    steps = 0\n",
    "    print(\"Welcome to the Treasure Hunt Game!\")\n",
    "\n",
    "    # Game loop\n",
    "    while player_health > 0:\n",
    "        print(f\"\\nCurrent Step: {steps}\")\n",
    "        print(f\"Current Health: {player_health}\")\n",
    "        print(f\"Current Score: {player_score}\")\n",
    "\n",
    "        user_choice = input(\"Choose a direction ('left' or 'right'): \").lower()\n",
    "        player_health, player_score = make_choice(user_choice)\n",
    "    \n",
    "        if player_score >= 150:\n",
    "            player_score = 150\n",
    "            print(\"Congratulations, treasure found!\")\n",
    "            break\n",
    "        elif player_health <= 0:\n",
    "            player_health = 0\n",
    "            break\n",
    "\n",
    "        else: print(\"\\nGame Over! Thanks for playing.\")\n",
    "\n",
    "\n",
    "if(__name__=='__main__'):\n",
    "    play()     #To test the functionality of your game"
   ]
  }
 ],
 "metadata": {
  "kernelspec": {
   "display_name": "base",
   "language": "python",
   "name": "python3"
  },
  "language_info": {
   "codemirror_mode": {
    "name": "ipython",
    "version": 3
   },
   "file_extension": ".py",
   "mimetype": "text/x-python",
   "name": "python",
   "nbconvert_exporter": "python",
   "pygments_lexer": "ipython3",
   "version": "3.11.4"
  }
 },
 "nbformat": 4,
 "nbformat_minor": 2
}
